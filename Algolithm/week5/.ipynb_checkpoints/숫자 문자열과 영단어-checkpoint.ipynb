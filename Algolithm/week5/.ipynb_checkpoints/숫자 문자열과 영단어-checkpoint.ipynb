{
 "cells": [
  {
   "cell_type": "markdown",
   "id": "c7180463",
   "metadata": {},
   "source": [
    "초기코드 : if 문을 써서 0이나 zero가 문자열 내에 포함되어 있으면 숫자를 새로운 문자열에 추가하게 했음\n",
    "\n",
    "새롭게 알게 된 것 : dictionary를 활용하기, replace() 함수 활용\n",
    "\n",
    "근데 만약에 s=\"123\"인 경우는 ... if 문이 없어도 알아서 숫자로 나오는 건가 ? 그런가보다. replace 함수를 활용하면. "
   ]
  },
  {
   "cell_type": "code",
   "execution_count": null,
   "id": "73e40e4d",
   "metadata": {},
   "outputs": [],
   "source": [
    "def solution(s):\n",
    "    answer = s \n",
    "    num_s = {'zero':0, 'one':1, 'two':2, 'three':3, 'four':4, 'five':5, 'six':6, 'seven':7, 'eight':8, 'nine':9}\n",
    "    \n",
    "    for num in num_s.items():\n",
    "        answer = answer.replace(num[0], str(num[1]))   \n",
    "\n",
    "\n",
    "    return int(answer)"
   ]
  }
 ],
 "metadata": {
  "kernelspec": {
   "display_name": "Python 3 (ipykernel)",
   "language": "python",
   "name": "python3"
  },
  "language_info": {
   "codemirror_mode": {
    "name": "ipython",
    "version": 3
   },
   "file_extension": ".py",
   "mimetype": "text/x-python",
   "name": "python",
   "nbconvert_exporter": "python",
   "pygments_lexer": "ipython3",
   "version": "3.11.1"
  }
 },
 "nbformat": 4,
 "nbformat_minor": 5
}
