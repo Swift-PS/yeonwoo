{
 "cells": [
  {
   "cell_type": "code",
   "execution_count": null,
   "id": "175a812a",
   "metadata": {},
   "outputs": [],
   "source": [
    "# 1. 변수이름 range쓰면 안됨\n",
    "# 2. 문제에서 n번째라고 했을 때 이게 0부터인지,1부터인지 제대로 봐야함\n",
    "def solution(array, commands):\n",
    "    answer = []\n",
    "    for i in range(len(commands)) : \n",
    "        rangeArr = array[commands[i][0]-1:commands[i][1]]\n",
    "        rangeArr.sort()\n",
    "        answer.append(rangeArr[commands[i][2]-1])\n",
    "        \n",
    "    return answer"
   ]
  }
 ],
 "metadata": {
  "kernelspec": {
   "display_name": "Python 3 (ipykernel)",
   "language": "python",
   "name": "python3"
  },
  "language_info": {
   "codemirror_mode": {
    "name": "ipython",
    "version": 3
   },
   "file_extension": ".py",
   "mimetype": "text/x-python",
   "name": "python",
   "nbconvert_exporter": "python",
   "pygments_lexer": "ipython3",
   "version": "3.11.1"
  }
 },
 "nbformat": 4,
 "nbformat_minor": 5
}
