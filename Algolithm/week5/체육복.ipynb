{
 "cells": [
  {
   "cell_type": "code",
   "execution_count": 12,
   "id": "666258de",
   "metadata": {},
   "outputs": [
    {
     "name": "stdout",
     "output_type": "stream",
     "text": [
      "{3}\n"
     ]
    },
    {
     "data": {
      "text/plain": [
       "2"
      ]
     },
     "execution_count": 12,
     "metadata": {},
     "output_type": "execute_result"
    }
   ],
   "source": [
    "def solution(n, lost, reserve):\n",
    "    answer = 0\n",
    "    lost = set(lost)-set(reserve)\n",
    "    reserve = set(reserve)-set(lost)\n",
    "    if len(lost) < len(reserve) :\n",
    "        for i in reserve : \n",
    "            if i+1 in lost : \n",
    "                answer += 2\n",
    "                lost.remove(i+1)\n",
    "            if i-1 in lost :\n",
    "                answer += 2\n",
    "                lost.remove(i-1)\n",
    "            else : \n",
    "                answer += 1 \n",
    "                \n",
    "    if len(lost) > len(reserve) :\n",
    "        for i in range(len(reserve)) : \n",
    "            answer += n - (len(lost)+len(reserve))\n",
    "            if i+1 in lost or i-1 in lost : \n",
    "                answer += 2\n",
    "                \n",
    "            else : \n",
    "                continue ;\n",
    "                \n",
    "    if len(lost) == len(reserve) :\n",
    "        for i in range(len(reserve)) : \n",
    "                answer += 2\n",
    "    \n",
    "    \n",
    "    return answer\n",
    "\n",
    "solution(5,[2, 4],[1, 3, 5])\n",
    "# solution(5,[2, 4],[3])\n",
    "# solution(3,[3],[1])"
   ]
  },
  {
   "cell_type": "code",
   "execution_count": 13,
   "id": "6cf71ac9",
   "metadata": {},
   "outputs": [
    {
     "data": {
      "text/plain": [
       "5"
      ]
     },
     "execution_count": 13,
     "metadata": {},
     "output_type": "execute_result"
    }
   ],
   "source": [
    "def solution(n, lost, reserve):\n",
    "    answer = 0\n",
    "    lost = set(lost)-set(reserve)\n",
    "    reserve = set(reserve)-set(lost)\n",
    "    \n",
    "    for i in reserve : \n",
    "        if i-1 in lost :\n",
    "            lost.remove(i-1)\n",
    "        elif i+1 in lost : \n",
    "            lost.remove(i+1)\n",
    "    \n",
    "    return n - len(lost)\n",
    "\n",
    "\n",
    "solution(5,[2, 4],[1, 3, 5])"
   ]
  },
  {
   "cell_type": "code",
   "execution_count": 14,
   "id": "0c0bd7be",
   "metadata": {},
   "outputs": [
    {
     "data": {
      "text/plain": [
       "5"
      ]
     },
     "execution_count": 14,
     "metadata": {},
     "output_type": "execute_result"
    }
   ],
   "source": [
    "def solution(n, lost, reserve):\n",
    "    answer = 0\n",
    "    lost = set(lost)-set(reserve)\n",
    "    reserve = set(reserve)-set(lost)\n",
    "    \n",
    "    for i in reserve : \n",
    "        if i-1 in lost :\n",
    "            lost.remove(i-1)\n",
    "        elif i+1 in lost : \n",
    "            lost.remove(i+1)\n",
    "    \n",
    "    return n - len(lost)\n",
    "\n",
    "\n",
    "solution(5,[1,2,3],[1,4])"
   ]
  },
  {
   "cell_type": "code",
   "execution_count": null,
   "id": "994b90ac",
   "metadata": {},
   "outputs": [],
   "source": [
    "def solution(n, lost, reserve):\n",
    "    answer = 0\n",
    "    set_lost = set(lost)-set(reserve)\n",
    "    set_reserve = set(reserve)-set(lost)\n",
    "    \n",
    "    for i in set_reserve : \n",
    "        if i-1 in set_lost :\n",
    "            set_lost.remove(i-1)\n",
    "        elif i+1 in set_lost : \n",
    "            set_lost.remove(i+1)\n",
    "    \n",
    "    return n - len(set_lost)\n"
   ]
  }
 ],
 "metadata": {
  "kernelspec": {
   "display_name": "Python 3 (ipykernel)",
   "language": "python",
   "name": "python3"
  },
  "language_info": {
   "codemirror_mode": {
    "name": "ipython",
    "version": 3
   },
   "file_extension": ".py",
   "mimetype": "text/x-python",
   "name": "python",
   "nbconvert_exporter": "python",
   "pygments_lexer": "ipython3",
   "version": "3.11.1"
  }
 },
 "nbformat": 4,
 "nbformat_minor": 5
}
