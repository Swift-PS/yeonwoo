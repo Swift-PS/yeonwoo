{
 "cells": [
  {
   "cell_type": "code",
   "execution_count": 15,
   "id": "6aea9ad0",
   "metadata": {},
   "outputs": [
    {
     "data": {
      "text/plain": [
       "2"
      ]
     },
     "execution_count": 15,
     "metadata": {},
     "output_type": "execute_result"
    }
   ],
   "source": [
    "def solution(n, lost, reserve):\n",
    "    answer = 0\n",
    "    \n",
    "    if len(lost) < len(reserve) :\n",
    "        for i in range(len(reserve)) : \n",
    "            if reserve[i]+1 in lost : \n",
    "                answer += 2\n",
    "                lost.remove(reserve[i]+1)\n",
    "            elif reserve[i]-1 in lost :\n",
    "                answer += 2\n",
    "                lost.remove(reserve[i]-1)\n",
    "            else : \n",
    "                answer += 1 \n",
    "                \n",
    "    if len(lost) > len(reserve) :\n",
    "        for i in range(len(reserve)) : \n",
    "            answer += n - (len(lost)+len(reserve))\n",
    "            if reserve[i]+1 in lost or reserve[i]-1 in lost : \n",
    "                answer += 2\n",
    "                \n",
    "            else : \n",
    "                continue ;\n",
    "                \n",
    "    if len(lost) == len(reserve) :\n",
    "        for i in range(len(reserve)) : \n",
    "                answer += 2\n",
    "    \n",
    "    \n",
    "    return answer\n",
    "\n",
    "# solution(5,[2, 4],[1, 3, 5])\n",
    "solution(5,[2, 4],[3])\n",
    "solution(3,[3],[1])"
   ]
  },
  {
   "cell_type": "code",
   "execution_count": null,
   "id": "d7d9d720",
   "metadata": {},
   "outputs": [],
   "source": []
  }
 ],
 "metadata": {
  "kernelspec": {
   "display_name": "Python 3 (ipykernel)",
   "language": "python",
   "name": "python3"
  },
  "language_info": {
   "codemirror_mode": {
    "name": "ipython",
    "version": 3
   },
   "file_extension": ".py",
   "mimetype": "text/x-python",
   "name": "python",
   "nbconvert_exporter": "python",
   "pygments_lexer": "ipython3",
   "version": "3.11.1"
  }
 },
 "nbformat": 4,
 "nbformat_minor": 5
}
